{
 "cells": [
  {
   "cell_type": "code",
   "execution_count": null,
   "id": "458b9248",
   "metadata": {},
   "outputs": [],
   "source": [
    "from extract import extract\n",
    "from transform import transform\n",
    "from load import load"
   ]
  },
  {
   "cell_type": "code",
   "execution_count": null,
   "id": "99b79ac5",
   "metadata": {},
   "outputs": [],
   "source": []
  }
 ],
 "metadata": {
  "kernelspec": {
   "display_name": "base",
   "language": "python",
   "name": "python3"
  },
  "language_info": {
   "codemirror_mode": {
    "name": "ipython",
    "version": 3
   },
   "file_extension": ".py",
   "mimetype": "text/x-python",
   "name": "python",
   "nbconvert_exporter": "python",
   "pygments_lexer": "ipython3",
   "version": "3.13.5"
  }
 },
 "nbformat": 4,
 "nbformat_minor": 5
}
